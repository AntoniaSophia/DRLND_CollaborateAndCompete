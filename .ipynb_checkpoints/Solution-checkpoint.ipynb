{
 "cells": [
  {
   "cell_type": "markdown",
   "metadata": {},
   "source": [
    "# Collaboration and Competition\n",
    "\n",
    "---\n",
    "\n",
    "In this notebook, you will learn how to use the Unity ML-Agents environment for the third project of the [Deep Reinforcement Learning Nanodegree](https://www.udacity.com/course/deep-reinforcement-learning-nanodegree--nd893) program.\n",
    "\n",
    "### 1. Start the Environment\n",
    "\n",
    "We begin by importing the necessary packages.  If the code cell below returns an error, please revisit the project instructions to double-check that you have installed [Unity ML-Agents](https://github.com/Unity-Technologies/ml-agents/blob/master/docs/Installation.md) and [NumPy](http://www.numpy.org/)."
   ]
  },
  {
   "cell_type": "code",
   "execution_count": 1,
   "metadata": {},
   "outputs": [],
   "source": [
    "from unityagents import UnityEnvironment\n",
    "import numpy as np"
   ]
  },
  {
   "cell_type": "markdown",
   "metadata": {},
   "source": [
    "Next, we will start the environment!  **_Before running the code cell below_**, change the `file_name` parameter to match the location of the Unity environment that you downloaded.\n",
    "\n",
    "- **Mac**: `\"path/to/Tennis.app\"`\n",
    "- **Windows** (x86): `\"path/to/Tennis_Windows_x86/Tennis.exe\"`\n",
    "- **Windows** (x86_64): `\"path/to/Tennis_Windows_x86_64/Tennis.exe\"`\n",
    "- **Linux** (x86): `\"path/to/Tennis_Linux/Tennis.x86\"`\n",
    "- **Linux** (x86_64): `\"path/to/Tennis_Linux/Tennis.x86_64\"`\n",
    "- **Linux** (x86, headless): `\"path/to/Tennis_Linux_NoVis/Tennis.x86\"`\n",
    "- **Linux** (x86_64, headless): `\"path/to/Tennis_Linux_NoVis/Tennis.x86_64\"`\n",
    "\n",
    "For instance, if you are using a Mac, then you downloaded `Tennis.app`.  If this file is in the same folder as the notebook, then the line below should appear as follows:\n",
    "```\n",
    "env = UnityEnvironment(file_name=\"Tennis.app\")\n",
    "```"
   ]
  },
  {
   "cell_type": "code",
   "execution_count": 2,
   "metadata": {},
   "outputs": [
    {
     "name": "stderr",
     "output_type": "stream",
     "text": [
      "INFO:unityagents:\n",
      "'Academy' started successfully!\n",
      "Unity Academy name: Academy\n",
      "        Number of Brains: 1\n",
      "        Number of External Brains : 1\n",
      "        Lesson number : 0\n",
      "        Reset Parameters :\n",
      "\t\t\n",
      "Unity brain name: TennisBrain\n",
      "        Number of Visual Observations (per agent): 0\n",
      "        Vector Observation space type: continuous\n",
      "        Vector Observation space size (per agent): 8\n",
      "        Number of stacked Vector Observation: 3\n",
      "        Vector Action space type: continuous\n",
      "        Vector Action space size (per agent): 2\n",
      "        Vector Action descriptions: , \n"
     ]
    }
   ],
   "source": [
    "env = UnityEnvironment(file_name=\"../UnityTennis/Tennis.exe\")"
   ]
  },
  {
   "cell_type": "markdown",
   "metadata": {},
   "source": [
    "Environments contain **_brains_** which are responsible for deciding the actions of their associated agents. Here we check for the first brain available, and set it as the default brain we will be controlling from Python."
   ]
  },
  {
   "cell_type": "code",
   "execution_count": 3,
   "metadata": {},
   "outputs": [],
   "source": [
    "# get the default brain\n",
    "brain_name = env.brain_names[0]\n",
    "brain = env.brains[brain_name]"
   ]
  },
  {
   "cell_type": "markdown",
   "metadata": {},
   "source": [
    "### 2. Examine the State and Action Spaces\n",
    "\n",
    "In this environment, two agents control rackets to bounce a ball over a net. If an agent hits the ball over the net, it receives a reward of +0.1.  If an agent lets a ball hit the ground or hits the ball out of bounds, it receives a reward of -0.01.  Thus, the goal of each agent is to keep the ball in play.\n",
    "\n",
    "The observation space consists of 8 variables corresponding to the position and velocity of the ball and racket. Two continuous actions are available, corresponding to movement toward (or away from) the net, and jumping. \n",
    "\n",
    "Run the code cell below to print some information about the environment."
   ]
  },
  {
   "cell_type": "code",
   "execution_count": 4,
   "metadata": {},
   "outputs": [
    {
     "name": "stdout",
     "output_type": "stream",
     "text": [
      "Number of agents: 2\n",
      "Size of each action: 2\n",
      "There are 2 agents. Each observes a state with length: 24\n",
      "The state for the first agent looks like: [ 0.          0.          0.          0.          0.          0.\n",
      "  0.          0.          0.          0.          0.          0.\n",
      "  0.          0.          0.          0.         -6.65278625 -1.5\n",
      " -0.          0.          6.83172083  6.         -0.          0.        ]\n"
     ]
    }
   ],
   "source": [
    "# reset the environment\n",
    "env_info = env.reset(train_mode=True)[brain_name]\n",
    "\n",
    "# number of agents \n",
    "num_agents = len(env_info.agents)\n",
    "print('Number of agents:', num_agents)\n",
    "\n",
    "# size of each action\n",
    "action_size = brain.vector_action_space_size\n",
    "print('Size of each action:', action_size)\n",
    "\n",
    "# examine the state space \n",
    "states = env_info.vector_observations\n",
    "state_size = states.shape[1]\n",
    "print('There are {} agents. Each observes a state with length: {}'.format(states.shape[0], state_size))\n",
    "print('The state for the first agent looks like:', states[0])"
   ]
  },
  {
   "cell_type": "markdown",
   "metadata": {},
   "source": [
    "### 3. Take Random Actions in the Environment\n",
    "\n",
    "In the next code cell, you will learn how to use the Python API to control the agents and receive feedback from the environment.\n",
    "\n",
    "Once this cell is executed, you will watch the agents' performance, if they select actions at random with each time step.  A window should pop up that allows you to observe the agents.\n",
    "\n",
    "Of course, as part of the project, you'll have to change the code so that the agents are able to use their experiences to gradually choose better actions when interacting with the environment!"
   ]
  },
  {
   "cell_type": "code",
   "execution_count": 5,
   "metadata": {},
   "outputs": [
    {
     "name": "stdout",
     "output_type": "stream",
     "text": [
      "Score (max over agents) from episode 1: 0.0\n",
      "Score (max over agents) from episode 2: 0.0\n",
      "Score (max over agents) from episode 3: 0.09000000171363354\n",
      "Score (max over agents) from episode 4: 0.0\n",
      "Score (max over agents) from episode 5: 0.0\n"
     ]
    }
   ],
   "source": [
    "for i in range(1, 6):                                      # play game for 5 episodes\n",
    "    env_info = env.reset(train_mode=False)[brain_name]     # reset the environment    \n",
    "    states = env_info.vector_observations                  # get the current state (for each agent)\n",
    "    scores = np.zeros(num_agents)                          # initialize the score (for each agent)\n",
    "    while True:\n",
    "        actions = np.random.randn(num_agents, action_size) # select an action (for each agent)\n",
    "        actions = np.clip(actions, -1, 1)                  # all actions between -1 and 1\n",
    "        env_info = env.step(actions)[brain_name]           # send all actions to tne environment\n",
    "        next_states = env_info.vector_observations         # get next state (for each agent)\n",
    "        rewards = env_info.rewards                         # get reward (for each agent)\n",
    "        dones = env_info.local_done                        # see if episode finished\n",
    "        scores += env_info.rewards                         # update the score (for each agent)\n",
    "        states = next_states                               # roll over states to next time step\n",
    "        if np.any(dones):                                  # exit loop if episode finished\n",
    "            break\n",
    "    print('Score (max over agents) from episode {}: {}'.format(i, np.max(scores)))"
   ]
  },
  {
   "cell_type": "code",
   "execution_count": null,
   "metadata": {},
   "outputs": [],
   "source": []
  },
  {
   "cell_type": "code",
   "execution_count": null,
   "metadata": {},
   "outputs": [],
   "source": []
  },
  {
   "cell_type": "code",
   "execution_count": 7,
   "metadata": {},
   "outputs": [],
   "source": [
    "def train_CollabAndCompete(env, brain_name, n_episodes, max_t, \\\n",
    "                           solved_score, consec_episodes, print_every, \\\n",
    "                           maac_agent, agent_1_path , agent_2_path):\n",
    "    \"\"\"\n",
    "    Params\n",
    "    ======\n",
    "        env                   : the environment to be used\n",
    "        brain_name            : the name of the brain to be used\n",
    "        n_episodes (int)      : maximum number of training episodes\n",
    "        max_t (int)           : maximum number of timesteps per episode\n",
    "        solved_score (float)  : min avg score over consecutive episodes\n",
    "        consec_episodes (int) : number of consecutive episodes used to calculate score\n",
    "        print_every (int)     : interval to display results\n",
    "        maac_agent (MAAC)     : the MAAC agent which contains agent_1 and agent_2\n",
    "        agent_1_path (str)    : directory to store the agent_1 weights\n",
    "        agent_1_path (str)    : directory to store the agent_2 weights\n",
    "\n",
    "    \"\"\"\n",
    "\n",
    "    # reset the environment\n",
    "    env_info = env.reset(train_mode=True)[brain_name]\n",
    "    brain = env.brains[brain_name]\n",
    "\n",
    "    # number of agents\n",
    "    num_agents = len(env_info.agents)\n",
    "    print('Number of agents:', num_agents)\n",
    "\n",
    "    # size of each action\n",
    "    action_size = brain.vector_action_space_size\n",
    "    print('Size of each action:', action_size)\n",
    "\n",
    "    # examine the state space\n",
    "    states = env_info.vector_observations\n",
    "    state_size = states.shape[1]\n",
    "    print('There are {} agents. Each observes a state with length: {}'.format(states.shape[0], state_size))\n",
    "    print('The state for the first agent looks like:', states[0])\n",
    "\n",
    "    total_rewards = []\n",
    "    avg_scores = []\n",
    "    max_avg_score = -1\n",
    "    mean_scores = []                               # list of mean scores from each episode\n",
    "    min_scores = []                                # list of lowest scores from each episode\n",
    "    max_scores = []                                # list of highest scores from each episode\n",
    "    best_score = -np.inf\n",
    "    scores_window = deque(maxlen=consec_episodes)  # mean scores from most recent episodes\n",
    "    moving_avgs = []                               # list of moving averages\n",
    "    df = pd.DataFrame(columns=['episode', 'duration', 'min', 'max', 'std', 'mean'])\n",
    "    latest_avg_score = -1\n",
    "    \n",
    "    threshold_exceedings = 0\n",
    "\n",
    "    # for early-stopping training if consistently worsen for 30 episodes\n",
    "    worsen_tolerance = 20\n",
    "\n",
    "\n",
    "    # now execute up to maximum \"maxEpisodes\" episodes\n",
    "    for i_episode in range(1, n_episodes+1):\n",
    "        # 1.Step: reset the environment - set the train_mode to True !!\n",
    "        env_info = env.reset(train_mode=True)[brain_name]  \n",
    "\n",
    "        # 2. Step: get the current state for each agent\n",
    "        states = env_info.vector_observations     \n",
    "        #print(\"States = \" , states)\n",
    "\n",
    "\n",
    "        # 3.Step: set the score of the current episode to 0 for each agent\n",
    "        scores = np.zeros(num_agents)                          \n",
    "\n",
    "        # 3a. Step: Reset all agents\n",
    "        agent.reset()\n",
    "        \n",
    "        start_time = time.time()\n",
    "        noise_t = 1.0\n",
    "        noise_decay = 0.995\n",
    "\n",
    "        # 4.Step: while episode has not ended (done = True or t < max_t) repeat\n",
    "        for t in range(max_t):\n",
    "            # 5.Step: Calculate the next action from agent with noise\n",
    "            actions = agent.act(states, noise_t)  \n",
    "\n",
    "            # 6.Step: Tell the environment about this action and get result\n",
    "            env_info = env.step(actions)[brain_name]            \n",
    "\n",
    "            # 7.Step: now let's get the state observation from observation            \n",
    "            next_states = env_info.vector_observations          \n",
    "\n",
    "            # 8.Step: now let's get the reward observation from observation            \n",
    "            rewards = env_info.rewards    \n",
    "\n",
    "            # 9.Step: now let's get the done observation from observation\n",
    "            dones = env_info.local_done                         \n",
    "\n",
    "            # 10.Step: Add the reward of the last action-state result  \n",
    "            #scores += rewards\n",
    "            scores += rewards\n",
    "            \n",
    "            noise_t *= noise_decay\n",
    " \n",
    "            # 11.Step: Execute a training step of the agent\n",
    "            agent.step(states, actions, rewards, next_states, dones, t)\n",
    "\n",
    "            # 12.Step: Continue while-loop with next_state as current state            \n",
    "            states = next_states\n",
    "\n",
    "            # 13.Step: in case of end of episode print the result and break loop \n",
    "            if np.any(dones):                                   # exit loop when episode ends\n",
    "                break\n",
    "\n",
    "        duration = time.time() - start_time\n",
    "        min_scores.append(np.min(scores))             # save lowest score for a single agent\n",
    "        max_scores.append(np.max(scores))             # save highest score for a single agent\n",
    "        mean_scores.append(np.mean(scores))           # save mean score for the episode\n",
    "        scores_window.append(mean_scores[-1])         # save mean score to window\n",
    "        moving_avgs.append(np.mean(scores_window))    # save moving average\n",
    "        episode_score = np.max(scores)\n",
    "        total_rewards.append(episode_score)\n",
    "\n",
    "        df.loc[i_episode-1] = [i_episode] + list([duration, np.min(scores),\n",
    "                                                  np.max(scores),\n",
    "                                                  np.std(scores),\n",
    "                                                  np.mean(scores)])\n",
    "\n",
    "            \n",
    "        # 16.Step: Print results every print_every episodes \n",
    "        if i_episode % print_every == 0:\n",
    "            print(\"\\rEpisodic {} Score: {:.4f}\\t Avg Score: {:.4f}\".format( \\\n",
    "                i_episode, episode_score, latest_avg_score), end=' ')\n",
    "\n",
    "            if episode_score > best_score:\n",
    "                best_score = episode_score\n",
    "                # save best model so far\n",
    "                agent.save(agent_1_path , agent_2_path)\n",
    "\n",
    "\n",
    "        if episode_score > solved_score:\n",
    "            threshold_exceedings += 1\n",
    "            \n",
    "            if threshold_exceedings > conseq_episodes:\n",
    "                break\n",
    "        else:\n",
    "            threshold_exceedings = 0\n",
    "                \n",
    "                \n",
    "        # 17.Step: save actor and critic in case a new best score has been encountered \n",
    "       # record avg score for the latest 100 steps\n",
    "        if len(total_rewards) >= 100:\n",
    "            latest_avg_score = sum(total_rewards[(len(total_rewards)-100):]) / 100\n",
    "            avg_scores.append(latest_avg_score)\n",
    "\n",
    "            if max_avg_score <= latest_avg_score:           # record better results\n",
    "                worsen_tolerance = 20           # re-count tolerance\n",
    "                max_avg_score = latest_avg_score\n",
    "            else:\n",
    "                if max_avg_score > 2.0:\n",
    "                    worsen_tolerance -= 1                   # count worsening counts\n",
    "                    print(\"Loaded from last best model.\")\n",
    "                    # continue from last best-model\n",
    "                    agent.reload(agent_1_path,0)\n",
    "                    agent.reload(agent_2_path,1)\n",
    "                if worsen_tolerance <= 0:                   # early stop training\n",
    "                    print(\"Early Stop Training.\")\n",
    "                    break\n",
    "    return df"
   ]
  },
  {
   "cell_type": "code",
   "execution_count": 8,
   "metadata": {},
   "outputs": [],
   "source": [
    "def test_CollabAndCompete(env, brain_name, agent,  runs=100):\n",
    "    # set overall sum of scores to 0\n",
    "    mean_scores = []\n",
    "\n",
    "    # now execute up to maximum runs episodes\n",
    "    for i_episode in range(runs):\n",
    "\n",
    "        # 1.Step: reset the environment - set the train_mode to False !!\n",
    "        env_info = env.reset(train_mode=True)[brain_name]     \n",
    "\n",
    "        # 2. Step: get the current state \n",
    "        states = env_info.vector_observations                  \n",
    "        \n",
    "        # 3.Step: set the score of the current episode to 0\n",
    "        num_agents = len(env_info.agents)\n",
    "        scores = np.zeros(num_agents)                          \n",
    "        \n",
    "        start_time = time.time()\n",
    "        \n",
    "        # 4.Step: while episode has not ended (done = True) repeat\n",
    "        while True:\n",
    "            # 5.Step: Calculate the next action from agent with epsilon 0 \n",
    "            #         add_noise = False because we are not in training mode !\n",
    "            actions = agent.act(states, noise_t=0.0)         \n",
    "\n",
    "            # 6.Step: Tell the environment about this action and get result\n",
    "            env_info = env.step(actions)[brain_name]           \n",
    "\n",
    "            # 7.Step: now let's get the state observation from observation\n",
    "            next_states = env_info.vector_observations         \n",
    "\n",
    "            # 8.Step: now let's get the reward observation from observation\n",
    "            rewards = env_info.rewards                        \n",
    "\n",
    "            # 9.Step: now let's get the done observation from observation\n",
    "            dones = env_info.local_done                         \n",
    "            \n",
    "            # 10.Step: Add the reward of the last action-state result  \n",
    "            scores += env_info.rewards                         \n",
    "            \n",
    "            # 11.Step: Continue while-loop with next_state as current state\n",
    "            states = next_states                                           \n",
    "\n",
    "            # 12.Step: in case of end of episode print the result and break loop \n",
    "            if np.any(dones):                                 \n",
    "                break\n",
    "\n",
    "        # 13.Step: Finally append the score of last epsisode to the overall scores\n",
    "        mean_scores.append(np.mean(scores))\n",
    "\n",
    "        duration = time.time() - start_time\n",
    "        print('\\rEpisode {} ({} sec)\\tMean: {:.1f}'.format(\n",
    "            i_episode, round(duration), mean_scores[-1]))\n",
    "\n",
    "\n",
    "    return mean_scores\n"
   ]
  },
  {
   "cell_type": "code",
   "execution_count": 9,
   "metadata": {},
   "outputs": [],
   "source": [
    "def plot_minmax(df):\n",
    "    \"\"\"Print min max plot of DQN Agent analytics\n",
    "\n",
    "    Params\n",
    "    ======\n",
    "        df :    Dataframe with scores\n",
    "    \"\"\"\n",
    "    ax = df.plot(x='episode', y='mean')\n",
    "    plt.fill_between(x='episode', y1='min', y2='max', color='lightgrey', data=df)\n",
    "    x_coordinates = [0, 5000]\n",
    "    y_coordinates = [0.5, 0.5]\n",
    "    plt.plot(x_coordinates, y_coordinates, color='red')\n",
    "    plt.show()"
   ]
  },
  {
   "cell_type": "code",
   "execution_count": 10,
   "metadata": {},
   "outputs": [],
   "source": [
    "from maac import MAAC\n",
    "from ddpg_agent import DDPGAgent\n",
    "from td3_agent import TD3Agent\n",
    "\n",
    "import time\n",
    "from collections import deque\n",
    "import pandas as pd\n",
    "import matplotlib.pyplot as plt"
   ]
  },
  {
   "cell_type": "code",
   "execution_count": 11,
   "metadata": {},
   "outputs": [],
   "source": [
    "max_episodes = 5000\n",
    "max_t = 100000\n",
    "threshold = 1.0\n",
    "conseq_episodes = 5\n",
    "print_every = 1"
   ]
  },
  {
   "cell_type": "code",
   "execution_count": null,
   "metadata": {},
   "outputs": [],
   "source": [
    "agent_1 = DDPGAgent(state_size, action_size)\n",
    "agent_2 = TD3Agent(state_size, action_size)\n",
    "\n",
    "agent_1_path = 'results/ddgp_solo/01_best_model.checkpoint'\n",
    "agent_2_path = 'results/temp/new_td3_model.checkpoint'\n",
    "\n",
    "agent = MAAC(state_size, action_size, agent_1, agent_2, False, True)\n",
    "agent.load(agent_1_path,0)\n",
    "\n",
    "\n",
    "df = train_CollabAndCompete(env, brain_name, max_episodes, max_t, threshold, \\\n",
    "                                conseq_episodes, print_every, agent, agent_1_path, agent_2_path)\n",
    "\n",
    "plot_minmax(df)"
   ]
  },
  {
   "cell_type": "code",
   "execution_count": null,
   "metadata": {},
   "outputs": [],
   "source": [
    "plot_minmax(df)"
   ]
  },
  {
   "cell_type": "code",
   "execution_count": null,
   "metadata": {},
   "outputs": [],
   "source": [
    "agent_1 = DDPGAgent(state_size, action_size)\n",
    "agent_2 = TD3Agent(state_size, action_size)\n",
    "\n",
    "agent_1_path = 'results/ddgp_solo/01_best_model.checkpoint'\n",
    "agent_2_path = 'results/temp/new_td3_model.checkpoint'\n",
    "\n",
    "agent = MAAC(state_size, action_size, agent_1, agent_2, False, False)\n",
    "\n",
    "agent.load(agent_1_path,0)\n",
    "agent.load(agent_2_path,1) \n",
    "\n",
    "scores = test_CollabAndCompete(env, brain_name, agent,  runs=100)\n",
    "print('Total score (averaged over agents) for 100 episodes: {}'.format(np.mean(scores)))"
   ]
  },
  {
   "cell_type": "code",
   "execution_count": null,
   "metadata": {},
   "outputs": [],
   "source": []
  },
  {
   "cell_type": "code",
   "execution_count": null,
   "metadata": {},
   "outputs": [],
   "source": []
  },
  {
   "cell_type": "markdown",
   "metadata": {},
   "source": [
    "Now let's do some testing of the agents..."
   ]
  },
  {
   "cell_type": "code",
   "execution_count": null,
   "metadata": {},
   "outputs": [],
   "source": [
    "agent_1 = TD3Agent(state_size, action_size)\n",
    "agent_2 = DDPGAgent(state_size, action_size)\n",
    "\n",
    "agent_1_path = 'results/td3_opponent/00_best_td3_model.checkpoint'\n",
    "agent_2_path = 'results/ddgp_solo/00_best_model.checkpoint'\n",
    "\n",
    "agent = MAAC(state_size, action_size, agent_1, agent_2, False, False)\n",
    "\n",
    "agent.load(agent_1_path,0)\n",
    "agent.load(agent_2_path,1) \n",
    "\n",
    "scores = test_CollabAndCompete(env, brain_name, agent,  runs=100)\n",
    "print('Total score (averaged over agents) for 100 episodes: {}'.format(np.mean(scores)))"
   ]
  },
  {
   "cell_type": "code",
   "execution_count": null,
   "metadata": {},
   "outputs": [],
   "source": [
    "agent_1 = TD3Agent(state_size, action_size)\n",
    "agent_2 = DDPGAgent(state_size, action_size)\n",
    "\n",
    "agent_1_path = 'results/td3_opponent/00_best_td3_model.checkpoint'\n",
    "agent_2_path = 'results/ddgp_solo/01_best_model.checkpoint'\n",
    "\n",
    "agent = MAAC(state_size, action_size, agent_1, agent_2, False, False)\n",
    "\n",
    "agent.load(agent_1_path,0)\n",
    "agent.load(agent_2_path,1) \n",
    "\n",
    "scores = test_CollabAndCompete(env, brain_name, agent,  runs=100)\n",
    "print('Total score (averaged over agents) for 100 episodes: {}'.format(np.mean(scores)))"
   ]
  },
  {
   "cell_type": "code",
   "execution_count": null,
   "metadata": {},
   "outputs": [],
   "source": []
  },
  {
   "cell_type": "code",
   "execution_count": null,
   "metadata": {},
   "outputs": [],
   "source": []
  },
  {
   "cell_type": "code",
   "execution_count": null,
   "metadata": {},
   "outputs": [],
   "source": []
  },
  {
   "cell_type": "code",
   "execution_count": null,
   "metadata": {},
   "outputs": [],
   "source": []
  },
  {
   "cell_type": "code",
   "execution_count": null,
   "metadata": {},
   "outputs": [],
   "source": []
  },
  {
   "cell_type": "code",
   "execution_count": null,
   "metadata": {},
   "outputs": [],
   "source": []
  },
  {
   "cell_type": "markdown",
   "metadata": {},
   "source": [
    "When finished, you can close the environment."
   ]
  },
  {
   "cell_type": "code",
   "execution_count": null,
   "metadata": {},
   "outputs": [],
   "source": [
    "env.close()"
   ]
  }
 ],
 "metadata": {
  "kernelspec": {
   "display_name": "Python 3",
   "language": "python",
   "name": "python3"
  },
  "language_info": {
   "codemirror_mode": {
    "name": "ipython",
    "version": 3
   },
   "file_extension": ".py",
   "mimetype": "text/x-python",
   "name": "python",
   "nbconvert_exporter": "python",
   "pygments_lexer": "ipython3",
   "version": "3.6.10"
  }
 },
 "nbformat": 4,
 "nbformat_minor": 2
}
